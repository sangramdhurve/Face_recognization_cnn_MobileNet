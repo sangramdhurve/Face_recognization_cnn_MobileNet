{
 "cells": [
  {
   "cell_type": "markdown",
   "id": "5f58e56b",
   "metadata": {},
   "source": [
    "## <---------------------------------- Extract faces from Images ------------------------------>"
   ]
  },
  {
   "cell_type": "code",
   "execution_count": 36,
   "id": "37252172",
   "metadata": {},
   "outputs": [],
   "source": [
    "import cv2\n",
    "import glob\n",
    "face_cascade = cv2.CascadeClassifier(\"/home/sangramdh/pycharm/F_rec/data/haarcascade_frontalface_default.xml\")\n",
    "\n",
    "# Select the path\n",
    "path = \"/home/sangramdh/data/data/shruthi images/*.*\"\n",
    "img_number = 1 # Start an iterator for image number.\n",
    "\n",
    "img_list = glob.glob(path)\n"
   ]
  },
  {
   "cell_type": "code",
   "execution_count": 37,
   "id": "5cc4a2c1",
   "metadata": {
    "scrolled": true
   },
   "outputs": [
    {
     "name": "stdout",
     "output_type": "stream",
     "text": [
      "138\n"
     ]
    }
   ],
   "source": [
    "print(len(img_list))"
   ]
  },
  {
   "cell_type": "markdown",
   "id": "135ff0f4",
   "metadata": {},
   "source": [
    "### Execution has been done means that faces will have stored in your space"
   ]
  },
  {
   "cell_type": "code",
   "execution_count": 38,
   "id": "676c1668",
   "metadata": {},
   "outputs": [
    {
     "name": "stdout",
     "output_type": "stream",
     "text": [
      "execution has been done\n",
      "execution has been done\n",
      "execution has been done\n",
      "execution has been done\n",
      "execution has been done\n",
      "execution has been done\n",
      "execution has been done\n",
      "execution has been done\n",
      "execution has been done\n",
      "execution has been done\n",
      "execution has been done\n",
      "execution has been done\n",
      "execution has been done\n",
      "execution has been done\n",
      "execution has been done\n",
      "execution has been done\n",
      "execution has been done\n",
      "execution has been done\n",
      "execution has been done\n",
      "execution has been done\n",
      "execution has been done\n",
      "execution has been done\n",
      "execution has been done\n",
      "execution has been done\n",
      "execution has been done\n",
      "execution has been done\n",
      "execution has been done\n",
      "execution has been done\n",
      "execution has been done\n",
      "execution has been done\n",
      "execution has been done\n",
      "execution has been done\n",
      "execution has been done\n",
      "execution has been done\n",
      "execution has been done\n",
      "execution has been done\n",
      "execution has been done\n",
      "execution has been done\n",
      "execution has been done\n",
      "execution has been done\n",
      "execution has been done\n",
      "execution has been done\n",
      "execution has been done\n",
      "execution has been done\n",
      "execution has been done\n",
      "execution has been done\n",
      "execution has been done\n",
      "execution has been done\n",
      "execution has been done\n",
      "execution has been done\n",
      "execution has been done\n",
      "execution has been done\n",
      "execution has been done\n",
      "execution has been done\n",
      "execution has been done\n",
      "execution has been done\n",
      "execution has been done\n",
      "execution has been done\n",
      "execution has been done\n",
      "execution has been done\n",
      "execution has been done\n",
      "execution has been done\n",
      "execution has been done\n",
      "execution has been done\n",
      "execution has been done\n",
      "execution has been done\n",
      "execution has been done\n",
      "execution has been done\n",
      "execution has been done\n",
      "execution has been done\n",
      "execution has been done\n",
      "execution has been done\n",
      "execution has been done\n",
      "execution has been done\n",
      "execution has been done\n",
      "execution has been done\n",
      "execution has been done\n",
      "execution has been done\n",
      "execution has been done\n",
      "execution has been done\n",
      "execution has been done\n",
      "execution has been done\n",
      "execution has been done\n",
      "execution has been done\n",
      "execution has been done\n",
      "execution has been done\n",
      "execution has been done\n",
      "execution has been done\n",
      "execution has been done\n",
      "execution has been done\n",
      "execution has been done\n",
      "execution has been done\n",
      "execution has been done\n",
      "execution has been done\n",
      "execution has been done\n",
      "execution has been done\n",
      "execution has been done\n",
      "execution has been done\n",
      "execution has been done\n",
      "execution has been done\n",
      "execution has been done\n",
      "execution has been done\n",
      "execution has been done\n",
      "execution has been done\n",
      "execution has been done\n",
      "execution has been done\n",
      "execution has been done\n",
      "execution has been done\n",
      "execution has been done\n",
      "execution has been done\n",
      "execution has been done\n",
      "execution has been done\n",
      "execution has been done\n",
      "execution has been done\n",
      "execution has been done\n",
      "execution has been done\n",
      "execution has been done\n",
      "execution has been done\n",
      "execution has been done\n",
      "execution has been done\n",
      "execution has been done\n",
      "execution has been done\n",
      "execution has been done\n",
      "execution has been done\n",
      "execution has been done\n",
      "execution has been done\n",
      "execution has been done\n",
      "execution has been done\n",
      "execution has been done\n",
      "execution has been done\n",
      "execution has been done\n",
      "execution has been done\n",
      "execution has been done\n",
      "execution has been done\n",
      "execution has been done\n",
      "execution has been done\n",
      "execution has been done\n"
     ]
    }
   ],
   "source": [
    "# Extract faces from a subset of images to be used for training\n",
    "for file in img_list[0:137]:\n",
    "    #print(file) # Just stop here to see all file names printed\n",
    "    img = cv2.imread(file, 1) # now we can read full path\n",
    "    gray = cv2.cvtColor(img, cv2.COLOR_BGR2GRAY)\n",
    "    faces = face_cascade.detectMultiScale(gray, 1.3, 5)\n",
    "    try:\n",
    "        for (x, y, w, h) in faces:\n",
    "            roi_color = img[y:y+h, x:x+w]\n",
    "        resized = cv2.resize(roi_color, (224, 224))\n",
    "        cv2.imwrite(\"/home/sangramdh/images/train/shruthi/\"+str(img_number)+\".jpg\", resized)\n",
    "    except:\n",
    "        print(\"No faces detected\")\n",
    "    img_number +=1\n",
    "    print(\"execution has been done\")"
   ]
  },
  {
   "cell_type": "code",
   "execution_count": 40,
   "id": "8aa2f1bf",
   "metadata": {},
   "outputs": [],
   "source": [
    "#/home/sangramdh/data/data/feraz images/"
   ]
  },
  {
   "cell_type": "markdown",
   "id": "16f3aef6",
   "metadata": {},
   "source": [
    "# Data Augmentation,\n",
    "\n",
    "``` its a kind of technique for multiplying your data```"
   ]
  },
  {
   "cell_type": "code",
   "execution_count": 53,
   "id": "dd529508",
   "metadata": {},
   "outputs": [
    {
     "name": "stdout",
     "output_type": "stream",
     "text": [
      "Found 137 images belonging to 1 classes.\n"
     ]
    }
   ],
   "source": [
    "\n",
    "from keras.preprocessing.image import ImageDataGenerator\n",
    "import numpy as np \n",
    "import os\n",
    "from PIL import Image\n",
    "from skimage import io\n",
    "\n",
    "path='/home/sangramdh/images/train/shruthi/'\n",
    "dest_path = '/home/sangramdh/images/aud_train/shruthi_a/'\n",
    "# for i in os.listdir(path):\n",
    "#         full_path=path+'/'+i\n",
    "#         print(full_path)\n",
    "#         for i in os.listdir(full_path):\n",
    "#                 print(i)\n",
    "\n",
    "        \n",
    "\n",
    "\n",
    "datagen = ImageDataGenerator(\n",
    "        rotation_range = 40,\n",
    "        width_shift_range= 0.1,\n",
    "        height_shift_range=0.1,\n",
    "        shear_range=0.1,\n",
    "    brightness_range=(0.2, 0.8),\n",
    "        zoom_range=0.2,\n",
    "        horizontal_flip=True,\n",
    "        fill_mode= 'nearest')\n",
    "\n",
    "\n",
    "\n",
    "i=0\n",
    "for batch in datagen.flow_from_directory(directory=path,\n",
    "                                         batch_size = 1,\n",
    "                                         color_mode='rgb',\n",
    "                                         save_to_dir=dest_path,\n",
    "                                         save_prefix='aug',\n",
    "                                         save_format='jpg'):\n",
    "    i +=1\n",
    "    if i >1199: # How many no of images you want\n",
    "        break"
   ]
  },
  {
   "cell_type": "code",
   "execution_count": null,
   "id": "627ee7c6",
   "metadata": {},
   "outputs": [],
   "source": []
  }
 ],
 "metadata": {
  "kernelspec": {
   "display_name": "Python 3 (ipykernel)",
   "language": "python",
   "name": "python3"
  },
  "language_info": {
   "codemirror_mode": {
    "name": "ipython",
    "version": 3
   },
   "file_extension": ".py",
   "mimetype": "text/x-python",
   "name": "python",
   "nbconvert_exporter": "python",
   "pygments_lexer": "ipython3",
   "version": "3.10.6"
  }
 },
 "nbformat": 4,
 "nbformat_minor": 5
}
